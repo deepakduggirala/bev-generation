{
 "cells": [
  {
   "cell_type": "code",
   "execution_count": 1,
   "id": "8afef3e6-3b3a-47fc-a2d3-b9c922d34e14",
   "metadata": {},
   "outputs": [
    {
     "name": "stdout",
     "output_type": "stream",
     "text": [
      "/Users/deepakduggirala/Documents/autonomous-robotics/bev-generation\n"
     ]
    }
   ],
   "source": [
    "cd .."
   ]
  },
  {
   "cell_type": "code",
   "execution_count": 2,
   "id": "91df4ac4-9443-40b5-946f-1c9766d95717",
   "metadata": {},
   "outputs": [],
   "source": [
    "import os\n",
    "from pathlib import Path\n",
    "import itertools\n",
    "\n",
    "import numpy as np\n",
    "import scipy\n",
    "\n",
    "import cv2\n",
    "\n",
    "import matplotlib.pyplot as plt\n",
    "import matplotlib.patches as mpatches\n",
    "\n",
    "from sklearn.neighbors import KNeighborsClassifier\n",
    "\n",
    "from nuscenes.nuscenes import NuScenes\n",
    "\n",
    "import utils\n",
    "import nusc_utils\n",
    "\n",
    "from bev_gt import generate_gt_bev_map\n",
    "from bev2 import BEV, generate_bev_seg_map"
   ]
  },
  {
   "cell_type": "code",
   "execution_count": 10,
   "id": "c9c1562c-eaa3-4c09-88c1-9bcff43ed916",
   "metadata": {},
   "outputs": [],
   "source": [
    "import warnings\n",
    "warnings.filterwarnings(\"ignore\")"
   ]
  },
  {
   "cell_type": "code",
   "execution_count": 3,
   "id": "d82b49a8-c8b3-4928-9c42-44445eeca270",
   "metadata": {},
   "outputs": [],
   "source": [
    "dataroot = Path('/Users/deepakduggirala/Documents/autonomous-robotics/v1.0-mini/').resolve()\n",
    "nuscenes = NuScenes(version='v1.0-mini', dataroot=str(dataroot), verbose=False)\n",
    "scene_idx = 0\n",
    "sample_idx = 30"
   ]
  },
  {
   "cell_type": "code",
   "execution_count": 4,
   "id": "a1252748-a8eb-4278-bb5f-1818e0455a1b",
   "metadata": {},
   "outputs": [],
   "source": [
    "scene = nuscenes.scene[scene_idx]\n",
    "sample = list(nusc_utils.sample_gen(nuscenes, scene))[sample_idx]"
   ]
  },
  {
   "cell_type": "code",
   "execution_count": 5,
   "id": "37dd5ae1-e5bf-40c3-9187-474e07dcc542",
   "metadata": {},
   "outputs": [
    {
     "name": "stderr",
     "output_type": "stream",
     "text": [
      "/Users/deepakduggirala/miniforge3/envs/tim/lib/python3.10/site-packages/shapely/set_operations.py:133: RuntimeWarning: invalid value encountered in intersection\n",
      "  return lib.intersection(a, b, **kwargs)\n"
     ]
    }
   ],
   "source": [
    "bev_gt_map = generate_gt_bev_map(nuscenes, scene, sample)"
   ]
  },
  {
   "cell_type": "code",
   "execution_count": 11,
   "id": "e53f996f-2925-4c55-b0d1-066afe86beb4",
   "metadata": {},
   "outputs": [
    {
     "name": "stdout",
     "output_type": "stream",
     "text": [
      "0.2179873368640238\n",
      "0.24478297808063787\n",
      "0.13481180390806782\n",
      "0.06774454549003764\n",
      "0.0708617414636573\n"
     ]
    },
    {
     "ename": "KeyboardInterrupt",
     "evalue": "",
     "output_type": "error",
     "traceback": [
      "\u001b[0;31m---------------------------------------------------------------------------\u001b[0m",
      "\u001b[0;31mKeyboardInterrupt\u001b[0m                         Traceback (most recent call last)",
      "Cell \u001b[0;32mIn[11], line 4\u001b[0m\n\u001b[1;32m      2\u001b[0m \u001b[38;5;28;01mfor\u001b[39;00m sample \u001b[38;5;129;01min\u001b[39;00m nusc_utils\u001b[38;5;241m.\u001b[39msample_gen(nuscenes, scene):\n\u001b[1;32m      3\u001b[0m     bev_gt_map \u001b[38;5;241m=\u001b[39m generate_gt_bev_map(nuscenes, scene, sample)\n\u001b[0;32m----> 4\u001b[0m     bev_seg_map, nusc_idx_to_color \u001b[38;5;241m=\u001b[39m \u001b[43mgenerate_bev_seg_map\u001b[49m\u001b[43m(\u001b[49m\u001b[43mnuscenes\u001b[49m\u001b[43m,\u001b[49m\u001b[43m \u001b[49m\u001b[43msample\u001b[49m\u001b[43m)\u001b[49m\n\u001b[1;32m      5\u001b[0m     pred, labels \u001b[38;5;241m=\u001b[39m utils\u001b[38;5;241m.\u001b[39mtransform_pred_and_labels(bev_seg_map, bev_gt_map)\n\u001b[1;32m      6\u001b[0m     iou_per_class, iou_per_sample \u001b[38;5;241m=\u001b[39m utils\u001b[38;5;241m.\u001b[39mcompute_iou(pred, labels)\n",
      "File \u001b[0;32m~/Documents/autonomous-robotics/bev-generation/bev2.py:238\u001b[0m, in \u001b[0;36mgenerate_bev_seg_map\u001b[0;34m(nuscenes, sample)\u001b[0m\n\u001b[1;32m    236\u001b[0m bev\u001b[38;5;241m.\u001b[39mload_cam_data(cam\u001b[38;5;241m=\u001b[39m\u001b[38;5;124m'\u001b[39m\u001b[38;5;124mCAM_FRONT\u001b[39m\u001b[38;5;124m'\u001b[39m)\n\u001b[1;32m    237\u001b[0m depth_map, seg_map \u001b[38;5;241m=\u001b[39m bev\u001b[38;5;241m.\u001b[39minterpolate_depth_seg()\n\u001b[0;32m--> 238\u001b[0m bev_seg_map \u001b[38;5;241m=\u001b[39m \u001b[43mbev\u001b[49m\u001b[38;5;241;43m.\u001b[39;49m\u001b[43mgenerate_BEV_projection\u001b[49m\u001b[43m(\u001b[49m\u001b[43mdepth_map\u001b[49m\u001b[43m,\u001b[49m\u001b[43m \u001b[49m\u001b[43mseg_map\u001b[49m\u001b[43m)\u001b[49m\n\u001b[1;32m    239\u001b[0m \u001b[38;5;28;01mreturn\u001b[39;00m bev_seg_map, bev\u001b[38;5;241m.\u001b[39mnusc_idx_to_color\n",
      "File \u001b[0;32m~/Documents/autonomous-robotics/bev-generation/bev2.py:225\u001b[0m, in \u001b[0;36mBEV.generate_BEV_projection\u001b[0;34m(self, depth_map, seg_map)\u001b[0m\n\u001b[1;32m    223\u001b[0m     v, u \u001b[38;5;241m=\u001b[39m np\u001b[38;5;241m.\u001b[39mwhere(seg_map \u001b[38;5;241m==\u001b[39m cls_idx)\n\u001b[1;32m    224\u001b[0m     z \u001b[38;5;241m=\u001b[39m depth_map[seg_map \u001b[38;5;241m==\u001b[39m cls_idx]\n\u001b[0;32m--> 225\u001b[0m     bev_seg_map[i, :, :] \u001b[38;5;241m=\u001b[39m \u001b[38;5;28mself\u001b[39m\u001b[38;5;241m.\u001b[39mproject_to_bev(u, z)\n\u001b[1;32m    227\u001b[0m \u001b[38;5;28;01mreturn\u001b[39;00m bev_seg_map\n",
      "\u001b[0;31mKeyboardInterrupt\u001b[0m: "
     ]
    }
   ],
   "source": [
    "for scene in nuscenes.scene:\n",
    "    for sample in nusc_utils.sample_gen(nuscenes, scene):\n",
    "        bev_gt_map = generate_gt_bev_map(nuscenes, scene, sample)\n",
    "        bev_seg_map, nusc_idx_to_color = generate_bev_seg_map(nuscenes, sample)\n",
    "        pred, labels = utils.transform_pred_and_labels(bev_seg_map, bev_gt_map)\n",
    "        iou_per_class, iou_per_sample = utils.compute_iou(pred, labels)\n",
    "        print(iou_per_sample)"
   ]
  },
  {
   "cell_type": "code",
   "execution_count": null,
   "id": "b95f91e5-277d-4b0f-964d-ddb6b4ed3497",
   "metadata": {},
   "outputs": [],
   "source": []
  },
  {
   "cell_type": "code",
   "execution_count": null,
   "id": "284ca041-144b-42e5-a935-f156db53b342",
   "metadata": {},
   "outputs": [],
   "source": []
  },
  {
   "cell_type": "code",
   "execution_count": null,
   "id": "13f53d98-8329-4a62-98ec-e49d6706a8d2",
   "metadata": {},
   "outputs": [],
   "source": []
  }
 ],
 "metadata": {
  "kernelspec": {
   "display_name": "Python 3 (ipykernel)",
   "language": "python",
   "name": "python3"
  },
  "language_info": {
   "codemirror_mode": {
    "name": "ipython",
    "version": 3
   },
   "file_extension": ".py",
   "mimetype": "text/x-python",
   "name": "python",
   "nbconvert_exporter": "python",
   "pygments_lexer": "ipython3",
   "version": "3.10.8"
  }
 },
 "nbformat": 4,
 "nbformat_minor": 5
}
