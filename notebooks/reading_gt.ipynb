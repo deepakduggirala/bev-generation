{
 "cells": [
  {
   "cell_type": "code",
   "execution_count": 1,
   "id": "e0c96387-013c-4ab9-927c-7cb637b58a3c",
   "metadata": {},
   "outputs": [
    {
     "name": "stdout",
     "output_type": "stream",
     "text": [
      "/Users/deepakduggirala/Documents/autonomous-robotics/bev-generation\n"
     ]
    }
   ],
   "source": [
    "cd .."
   ]
  },
  {
   "cell_type": "code",
   "execution_count": 2,
   "id": "e47a3308-05f1-4b8a-9da1-669fc56d3692",
   "metadata": {},
   "outputs": [],
   "source": [
    "import os\n",
    "from pathlib import Path\n",
    "\n",
    "import numpy as np\n",
    "\n",
    "import matplotlib.pyplot as plt\n",
    "\n",
    "import lmdb # pip install lmdb\n",
    "\n",
    "import utils\n",
    "from utils import bytes_to_array"
   ]
  },
  {
   "cell_type": "code",
   "execution_count": 11,
   "id": "13f0bcbb-b340-4724-863d-920913dac0f9",
   "metadata": {},
   "outputs": [],
   "source": [
    "dataroot = Path('/Users/deepakduggirala/Documents/autonomous-robotics/v1.0-mini/').resolve()\n",
    "gt_db_path = dataroot / Path('lmdb/samples/GT_CAM_FRONT')\n",
    "gt_db = lmdb.open(path=str(gt_db_path), readonly=True, map_size=int(50 * 1024 * 1024 * 1024)) # max possible size of db is 50 GB"
   ]
  },
  {
   "cell_type": "code",
   "execution_count": 16,
   "id": "f4da7a25-923c-40c2-bb71-3d807745af24",
   "metadata": {},
   "outputs": [
    {
     "data": {
      "text/plain": [
       "404"
      ]
     },
     "execution_count": 16,
     "metadata": {},
     "output_type": "execute_result"
    }
   ],
   "source": [
    "# Number of entries\n",
    "N = gt_db.stat()['entries']\n",
    "N"
   ]
  },
  {
   "cell_type": "markdown",
   "id": "4e8aa72e-0b14-4064-b907-f3c8a449f356",
   "metadata": {},
   "source": [
    "### Get gt using the sample data token"
   ]
  },
  {
   "cell_type": "code",
   "execution_count": 4,
   "id": "1e9a9475-9ed1-4f6b-84d8-fef015bf6771",
   "metadata": {},
   "outputs": [
    {
     "data": {
      "text/plain": [
       "(15, 196, 200)"
      ]
     },
     "execution_count": 4,
     "metadata": {},
     "output_type": "execute_result"
    }
   ],
   "source": [
    "with gt_db.begin() as txn:\n",
    "    value = txn.get(b'0113899528c54aa5b573e083ea4086b2')\n",
    "bev_gt = bytes_to_array(value)\n",
    "bev_gt.shape"
   ]
  },
  {
   "cell_type": "code",
   "execution_count": 5,
   "id": "f9c56e50-b55c-4a01-885e-5ad8a107b157",
   "metadata": {},
   "outputs": [
    {
     "data": {
      "text/plain": [
       "(12, 196, 200)"
      ]
     },
     "execution_count": 5,
     "metadata": {},
     "output_type": "execute_result"
    }
   ],
   "source": [
    "labels = utils.transform_label(bev_gt)\n",
    "labels.shape"
   ]
  },
  {
   "cell_type": "markdown",
   "id": "dcf7d88c-7e1b-4c28-8154-f6320587a805",
   "metadata": {},
   "source": [
    "### Read all ground truths"
   ]
  },
  {
   "cell_type": "code",
   "execution_count": 18,
   "id": "fdc90fa6-9deb-4f0a-93ed-1224febc5aa9",
   "metadata": {},
   "outputs": [],
   "source": [
    "data = np.zeros((N, 15, 196, 200))\n",
    "with gt_db.begin() as txn:\n",
    "    for i, (key, value) in enumerate(txn.cursor()):\n",
    "        bev_gt = bytes_to_array(value)\n",
    "        data[i,:,:,:] = bev_gt"
   ]
  },
  {
   "cell_type": "code",
   "execution_count": 19,
   "id": "034b7aff-3af3-405d-ad10-39fd1a69b03d",
   "metadata": {},
   "outputs": [
    {
     "data": {
      "text/plain": [
       "(404, 15, 196, 200)"
      ]
     },
     "execution_count": 19,
     "metadata": {},
     "output_type": "execute_result"
    }
   ],
   "source": [
    "data.shape"
   ]
  }
 ],
 "metadata": {
  "kernelspec": {
   "display_name": "Python 3 (ipykernel)",
   "language": "python",
   "name": "python3"
  },
  "language_info": {
   "codemirror_mode": {
    "name": "ipython",
    "version": 3
   },
   "file_extension": ".py",
   "mimetype": "text/x-python",
   "name": "python",
   "nbconvert_exporter": "python",
   "pygments_lexer": "ipython3",
   "version": "3.10.8"
  }
 },
 "nbformat": 4,
 "nbformat_minor": 5
}
