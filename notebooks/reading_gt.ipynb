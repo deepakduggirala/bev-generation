{
 "cells": [
  {
   "cell_type": "code",
   "execution_count": 2,
   "id": "e0c96387-013c-4ab9-927c-7cb637b58a3c",
   "metadata": {},
   "outputs": [
    {
     "name": "stdout",
     "output_type": "stream",
     "text": [
      "/geode2/home/u020/deduggi/Carbonate/autonomous-robotics/bev-generation\n"
     ]
    }
   ],
   "source": [
    "cd .."
   ]
  },
  {
   "cell_type": "code",
   "execution_count": 23,
   "id": "e47a3308-05f1-4b8a-9da1-669fc56d3692",
   "metadata": {},
   "outputs": [],
   "source": [
    "import os\n",
    "from pathlib import Path\n",
    "import json\n",
    "import zlib\n",
    "\n",
    "import numpy as np\n",
    "\n",
    "import matplotlib.pyplot as plt\n",
    "\n",
    "import lmdb # pip install lmdb\n",
    "\n",
    "import utils\n",
    "from utils import bytes_to_array"
   ]
  },
  {
   "cell_type": "code",
   "execution_count": 6,
   "id": "13f0bcbb-b340-4724-863d-920913dac0f9",
   "metadata": {},
   "outputs": [],
   "source": [
    "dataroot = Path('/N/slate/deduggi/nuScenes-trainval').resolve()\n",
    "gt_db_path = dataroot / Path('lmdb/samples/GT_BEV_CAM_FRONT')\n",
    "raw_db_path = dataroot / Path('lmdb/samples/RAW_BEV_CAM_FRONT')\n",
    "nusc_metadata_path = './v1.0-trainval-meta-custom.json'"
   ]
  },
  {
   "cell_type": "code",
   "execution_count": 8,
   "id": "aa474d5f-29e1-48ae-a190-10070067daef",
   "metadata": {},
   "outputs": [],
   "source": [
    "with open(nusc_metadata_path, 'r') as f:\n",
    "    nusc_metadata = json.load(f)"
   ]
  },
  {
   "cell_type": "markdown",
   "id": "7d8b41a6-f7a8-4916-9ca8-917932edc4eb",
   "metadata": {},
   "source": [
    "### Train and Val splits"
   ]
  },
  {
   "cell_type": "code",
   "execution_count": 15,
   "id": "ddbc08e3-f85f-4004-95ed-6c0f717a0188",
   "metadata": {},
   "outputs": [
    {
     "data": {
      "text/plain": [
       "(28008, 5981)"
      ]
     },
     "execution_count": 15,
     "metadata": {},
     "output_type": "execute_result"
    }
   ],
   "source": [
    "splits_dir = dataroot / 'splits'\n",
    "train_split_path = splits_dir / 'train_roddick.txt'\n",
    "val_split_path = splits_dir / 'val_roddick.txt'\n",
    "\n",
    "with open(train_split_path, 'r') as f:\n",
    "    train_samples = f.read().split()\n",
    "    \n",
    "with open(val_split_path, 'r') as f:\n",
    "    val_samples = f.read().split()   \n",
    "    \n",
    "len(train_samples), len(val_samples)"
   ]
  },
  {
   "cell_type": "code",
   "execution_count": 17,
   "id": "52330110-53f1-4c4c-9194-ac2b2ca336ad",
   "metadata": {},
   "outputs": [],
   "source": [
    "sample_token_to_cam_token = {}\n",
    "\n",
    "for scene in nusc_metadata.values():\n",
    "    for sample_token, sample in scene['scene_data'].items():\n",
    "        sample_token_to_cam_token[sample_token] = sample['CAM_FRONT']['token']"
   ]
  },
  {
   "cell_type": "markdown",
   "id": "4e8aa72e-0b14-4064-b907-f3c8a449f356",
   "metadata": {},
   "source": [
    "### Get GT and raw BEV using the cam data token"
   ]
  },
  {
   "cell_type": "code",
   "execution_count": 24,
   "id": "d64b9b14-aa4b-4570-85b6-1201e89eb10d",
   "metadata": {},
   "outputs": [],
   "source": [
    "gt_db = lmdb.open(path=str(gt_db_path), readonly=True)\n",
    "raw_db = lmdb.open(path=str(raw_db_path), readonly=True)"
   ]
  },
  {
   "cell_type": "code",
   "execution_count": 25,
   "id": "d13875ae-aee5-4f31-8c28-b6d38d8aa3c8",
   "metadata": {},
   "outputs": [],
   "source": [
    "def db_value_to_array(value):\n",
    "    value_unzipped = zlib.decompress(value)\n",
    "    return bytes_to_array(value_unzipped)"
   ]
  },
  {
   "cell_type": "code",
   "execution_count": 26,
   "id": "79914fef-84ac-4dd3-a2fc-89a1651b0c2b",
   "metadata": {},
   "outputs": [
    {
     "data": {
      "text/plain": [
       "b'8ed2a7ea9a894eac8b3cd43b706f39bc'"
      ]
     },
     "execution_count": 26,
     "metadata": {},
     "output_type": "execute_result"
    }
   ],
   "source": [
    "sample_token = train_samples[0]\n",
    "cam_token = sample_token_to_cam_token[sample_token]\n",
    "cam_token_bytes = str.encode(cam_token, 'utf-8')\n",
    "cam_token_bytes"
   ]
  },
  {
   "cell_type": "code",
   "execution_count": 27,
   "id": "1e9a9475-9ed1-4f6b-84d8-fef015bf6771",
   "metadata": {},
   "outputs": [
    {
     "data": {
      "text/plain": [
       "(15, 196, 200)"
      ]
     },
     "execution_count": 27,
     "metadata": {},
     "output_type": "execute_result"
    }
   ],
   "source": [
    "with gt_db.begin() as txn:\n",
    "    value = txn.get(cam_token_bytes)\n",
    "    bev_gt = db_value_to_array(value)\n",
    "bev_gt.shape"
   ]
  },
  {
   "cell_type": "code",
   "execution_count": 28,
   "id": "f9c56e50-b55c-4a01-885e-5ad8a107b157",
   "metadata": {},
   "outputs": [
    {
     "data": {
      "text/plain": [
       "(12, 196, 200)"
      ]
     },
     "execution_count": 28,
     "metadata": {},
     "output_type": "execute_result"
    }
   ],
   "source": [
    "labels = utils.transform_label(bev_gt)\n",
    "labels.shape"
   ]
  },
  {
   "cell_type": "code",
   "execution_count": null,
   "id": "7f66bb49-05c6-4fd9-95cd-d4ede3625b79",
   "metadata": {},
   "outputs": [],
   "source": []
  },
  {
   "cell_type": "code",
   "execution_count": 29,
   "id": "9043d352-917f-47d6-9a4f-3822238740b5",
   "metadata": {},
   "outputs": [
    {
     "data": {
      "text/plain": [
       "(14, 200, 200)"
      ]
     },
     "execution_count": 29,
     "metadata": {},
     "output_type": "execute_result"
    }
   ],
   "source": [
    "with raw_db.begin() as txn:\n",
    "    value = txn.get(cam_token_bytes)\n",
    "    bev_raw = db_value_to_array(value)\n",
    "bev_raw.shape"
   ]
  },
  {
   "cell_type": "code",
   "execution_count": 30,
   "id": "d17613e8-4755-41e1-ba4c-1e845c2331a6",
   "metadata": {},
   "outputs": [
    {
     "data": {
      "text/plain": [
       "(12, 196, 200)"
      ]
     },
     "execution_count": 30,
     "metadata": {},
     "output_type": "execute_result"
    }
   ],
   "source": [
    "pred = utils.transform_pred(bev_raw)\n",
    "pred.shape"
   ]
  }
 ],
 "metadata": {
  "kernelspec": {
   "display_name": "Python 3 (ipykernel)",
   "language": "python",
   "name": "python3"
  },
  "language_info": {
   "codemirror_mode": {
    "name": "ipython",
    "version": 3
   },
   "file_extension": ".py",
   "mimetype": "text/x-python",
   "name": "python",
   "nbconvert_exporter": "python",
   "pygments_lexer": "ipython3",
   "version": "3.10.5"
  }
 },
 "nbformat": 4,
 "nbformat_minor": 5
}
