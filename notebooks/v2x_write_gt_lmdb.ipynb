{
 "cells": [
  {
   "cell_type": "code",
   "execution_count": 1,
   "id": "3d90eb9f-a4a5-4729-96b0-301e792edc59",
   "metadata": {},
   "outputs": [
    {
     "name": "stdout",
     "output_type": "stream",
     "text": [
      "/Users/deepakduggirala/Documents/autonomous-robotics/bev-generation\n"
     ]
    }
   ],
   "source": [
    "cd .."
   ]
  },
  {
   "cell_type": "code",
   "execution_count": 2,
   "id": "40da2ff1-b4d4-44a4-a058-95a6738fa58a",
   "metadata": {},
   "outputs": [],
   "source": [
    "import time\n",
    "import zlib\n",
    "from pathlib import Path\n",
    "from itertools import islice\n",
    "\n",
    "import numpy as np\n",
    "\n",
    "import matplotlib.pyplot as plt\n",
    "import matplotlib.patches as mpatches\n",
    "\n",
    "import lmdb\n",
    "\n",
    "from tqdm import tqdm\n",
    "\n",
    "import utils\n",
    "from utils import array_to_bytes, bytes_to_array\n",
    "import nusc_utils"
   ]
  },
  {
   "cell_type": "code",
   "execution_count": 5,
   "id": "48acd94a-0e48-4240-b1dc-795358868232",
   "metadata": {},
   "outputs": [],
   "source": [
    "def batched(iterable, n):\n",
    "    \"\"\"Batch data into lists of length n. The last batch may be shorter.\"\"\"\n",
    "    # batched('ABCDEFG', 3) --> ABC DEF G\n",
    "    it = iter(iterable)\n",
    "    while True:\n",
    "        batch = list(islice(it, n))\n",
    "        if not batch:\n",
    "            return\n",
    "        yield batch"
   ]
  },
  {
   "cell_type": "code",
   "execution_count": 6,
   "id": "af74be83-65d6-4b15-9fdc-c1e4d7617b4e",
   "metadata": {},
   "outputs": [],
   "source": [
    "def read_bev(bev_top_filepath):\n",
    "    return np.load(bev_top_filepath, 'r')['arr_0']\n",
    "\n",
    "def transform_bev(bev_top):\n",
    "\n",
    "    for cls_i in np.unique(bev_top):\n",
    "        ii, jj = np.where(bev_top == cls_i)\n",
    "        cls_j = classes_remap.get(cls_i, 0)\n",
    "        bev_top[ii, jj] = cls_j\n",
    "    return bev_top"
   ]
  },
  {
   "cell_type": "code",
   "execution_count": 25,
   "id": "beb738fd-f0ab-4204-96f6-b73cf56b9060",
   "metadata": {},
   "outputs": [],
   "source": [
    "def process_batch(lmdb_env, batch):\n",
    "    with lmdb_env.begin(write=True) as write_txn:\n",
    "        for bev_top_filepath in batch:\n",
    "            bev_top = read_bev(str(bev_top_filepath))\n",
    "            bev_top_remapped = transform_bev(bev_top)\n",
    "            \n",
    "            key = bytes(bev_top_filepath.stem, 'utf-8')\n",
    "            value = array_to_bytes(bev_top_remapped)\n",
    "            value_zipped = zlib.compress(value)\n",
    "            write_txn.put(key, value_zipped)\n",
    "            \n",
    "def process_bev(db_path, bev_top_dir):\n",
    "    db_path.mkdir(parents=True, exist_ok=True)\n",
    "    db_map_size = int(15 * 1024 * 1024 * 1024)\n",
    "    with lmdb.open(path=str(db_path), map_size=db_map_size) as lmdb_env:\n",
    "        for i, batch in tqdm(enumerate(batched(bev_top_dir.iterdir(), BATCH_SIZE), 1)):\n",
    "            # print('starting batch', i)\n",
    "            # start = time.perf_counter()\n",
    "            process_batch(lmdb_env, batch)\n",
    "            # print('completed batch', i, 'time took', time.perf_counter() - start)"
   ]
  },
  {
   "cell_type": "code",
   "execution_count": 32,
   "id": "4fb055d6-e239-48d9-a42e-b7774790e914",
   "metadata": {},
   "outputs": [
    {
     "name": "stderr",
     "output_type": "stream",
     "text": [
      "46it [00:09,  4.93it/s]\n"
     ]
    }
   ],
   "source": [
    "BATCH_SIZE=50\n",
    "\n",
    "vehicle_id=5\n",
    "bev_top_dir = dataroot / f'sweeps/BEV_TOP_id_{vehicle_id}'\n",
    "db_path = dataroot / Path(f'lmdb/samples/GT_BEV_id_{vehicle_id}')\n",
    "\n",
    "process_bev(db_path, bev_top_dir)"
   ]
  },
  {
   "cell_type": "code",
   "execution_count": null,
   "id": "8d48fa01-2c98-4c83-985f-bcd2d0a33aa7",
   "metadata": {},
   "outputs": [],
   "source": []
  },
  {
   "cell_type": "code",
   "execution_count": 4,
   "id": "aa7319bd-f17b-4b5e-8b02-696456a94015",
   "metadata": {},
   "outputs": [
    {
     "name": "stdout",
     "output_type": "stream",
     "text": [
      "processing 1\n",
      "processing 2\n",
      "processing 3\n",
      "processing 4\n",
      "processing 5\n"
     ]
    }
   ],
   "source": [
    "dataroot = Path('/Users/deepakduggirala/Documents/autonomous-robotics/V2X-Sim-2.0/').resolve()\n",
    "db_path = dataroot / Path(f'lmdb/samples/GT_BEV')\n",
    "db_path.mkdir(parents=True, exist_ok=True)\n",
    "db_map_size = int(15 * 1024 * 1024 * 1024)\n",
    "\n",
    "with lmdb.open(path=str(db_path), map_size=db_map_size) as lmdb_env:\n",
    "    for vehicle_id in range(1,6):\n",
    "        print('processing', vehicle_id)\n",
    "        gt_db_path = dataroot / Path(f'lmdb/samples/GT_BEV_id_{vehicle_id}')\n",
    "        with lmdb.open(path=str(gt_db_path), readonly=True) as gt_db:\n",
    "            with gt_db.begin() as read_txn:\n",
    "                cursor = read_txn.cursor()\n",
    "                with lmdb_env.begin(write=True) as write_txn:\n",
    "                    for key, value in cursor:\n",
    "                        key_str = bytes.decode(key, 'utf-8')\n",
    "                        new_key = f'${key_str}_id_{vehicle_id}'\n",
    "                        new_key_bytes = bytes(new_key, 'utf-8')\n",
    "                        write_txn.put(new_key_bytes, value)"
   ]
  }
 ],
 "metadata": {
  "kernelspec": {
   "display_name": "Python 3 (ipykernel)",
   "language": "python",
   "name": "python3"
  },
  "language_info": {
   "codemirror_mode": {
    "name": "ipython",
    "version": 3
   },
   "file_extension": ".py",
   "mimetype": "text/x-python",
   "name": "python",
   "nbconvert_exporter": "python",
   "pygments_lexer": "ipython3",
   "version": "3.10.8"
  }
 },
 "nbformat": 4,
 "nbformat_minor": 5
}
