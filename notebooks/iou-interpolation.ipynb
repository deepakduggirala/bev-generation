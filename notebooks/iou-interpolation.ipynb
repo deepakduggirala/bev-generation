{
 "cells": [
  {
   "cell_type": "code",
   "execution_count": 1,
   "id": "8afef3e6-3b3a-47fc-a2d3-b9c922d34e14",
   "metadata": {},
   "outputs": [
    {
     "name": "stdout",
     "output_type": "stream",
     "text": [
      "/Users/deepakduggirala/Documents/autonomous-robotics/bev-generation\n"
     ]
    }
   ],
   "source": [
    "cd .."
   ]
  },
  {
   "cell_type": "code",
   "execution_count": 8,
   "id": "91df4ac4-9443-40b5-946f-1c9766d95717",
   "metadata": {},
   "outputs": [],
   "source": [
    "import os\n",
    "from pathlib import Path\n",
    "import itertools\n",
    "from io import BytesIO\n",
    "import time\n",
    "import json\n",
    "\n",
    "import numpy as np\n",
    "import scipy\n",
    "import pandas as pd\n",
    "\n",
    "import cv2\n",
    "\n",
    "import matplotlib.pyplot as plt\n",
    "import matplotlib.patches as mpatches\n",
    "\n",
    "from sklearn.neighbors import KNeighborsClassifier\n",
    "\n",
    "from nuscenes.nuscenes import NuScenes\n",
    "\n",
    "import lmdb\n",
    "\n",
    "from tqdm import tqdm\n",
    "\n",
    "import utils\n",
    "from utils import bytes_to_array\n",
    "import nusc_utils\n",
    "\n",
    "from bev_gt import generate_gt_bev_map\n",
    "from bev2 import BEV, generate_bev_seg_map"
   ]
  },
  {
   "cell_type": "code",
   "execution_count": 3,
   "id": "c9c1562c-eaa3-4c09-88c1-9bcff43ed916",
   "metadata": {},
   "outputs": [],
   "source": [
    "import warnings\n",
    "warnings.filterwarnings(\"ignore\")"
   ]
  },
  {
   "cell_type": "code",
   "execution_count": 4,
   "id": "d82b49a8-c8b3-4928-9c42-44445eeca270",
   "metadata": {},
   "outputs": [],
   "source": [
    "dataroot = Path('/Users/deepakduggirala/Documents/autonomous-robotics/v1.0-mini/').resolve()\n",
    "nuscenes = NuScenes(version='v1.0-mini', dataroot=str(dataroot), verbose=False)\n",
    "scene_idx = 0\n",
    "sample_idx = 30"
   ]
  },
  {
   "cell_type": "code",
   "execution_count": 5,
   "id": "a1252748-a8eb-4278-bb5f-1818e0455a1b",
   "metadata": {},
   "outputs": [],
   "source": [
    "scene = nuscenes.scene[scene_idx]\n",
    "sample = list(nusc_utils.sample_gen(nuscenes, scene))[sample_idx]"
   ]
  },
  {
   "cell_type": "code",
   "execution_count": null,
   "id": "b95f91e5-277d-4b0f-964d-ddb6b4ed3497",
   "metadata": {},
   "outputs": [],
   "source": []
  },
  {
   "cell_type": "markdown",
   "id": "38a75547-dfea-4571-bcc5-72a995c8a719",
   "metadata": {},
   "source": [
    "## Generate ground truths and write to lmdb file"
   ]
  },
  {
   "cell_type": "code",
   "execution_count": 6,
   "id": "284ca041-144b-42e5-a935-f156db53b342",
   "metadata": {},
   "outputs": [],
   "source": [
    "main_db_path = dataroot / Path('lmdb/samples/GT_CAM_FRONT')\n",
    "main_db = lmdb.open(path=str(main_db_path), map_size=int(50 * 1024 * 1024 * 1024))"
   ]
  },
  {
   "cell_type": "code",
   "execution_count": 41,
   "id": "13f53d98-8329-4a62-98ec-e49d6706a8d2",
   "metadata": {},
   "outputs": [
    {
     "name": "stderr",
     "output_type": "stream",
     "text": [
      "39it [00:20,  1.89it/s]\n",
      "40it [00:21,  1.88it/s]\n",
      "41it [00:23,  1.76it/s]\n",
      "41it [00:21,  1.87it/s]\n",
      "41it [00:22,  1.84it/s]\n",
      "40it [00:21,  1.86it/s]\n",
      "41it [00:21,  1.88it/s]\n",
      "41it [00:21,  1.87it/s]\n",
      "40it [00:21,  1.89it/s]\n",
      "40it [00:20,  1.91it/s]\n"
     ]
    }
   ],
   "source": [
    "# with main_db.begin(write=True) as write_txn:\n",
    "#     for scene in nuscenes.scene:\n",
    "#         for sample in tqdm(nusc_utils.sample_gen(nuscenes, scene)):\n",
    "#             bev_gt_map = generate_gt_bev_map(nuscenes, scene, sample)\n",
    "#             key = bytes(sample['data']['CAM_FRONT'], 'utf-8')\n",
    "#             value = array_to_bytes(bev_gt_map)\n",
    "#             write_txn.put(key, value)"
   ]
  },
  {
   "cell_type": "code",
   "execution_count": 36,
   "id": "ae925bb8-f46c-4d75-9ab5-d4da2025b174",
   "metadata": {},
   "outputs": [],
   "source": []
  },
  {
   "cell_type": "markdown",
   "id": "f428573d-17ea-438a-9cf5-bf8b5b98d189",
   "metadata": {},
   "source": [
    "## Generate interpolated BEV and compute IOU"
   ]
  },
  {
   "cell_type": "code",
   "execution_count": 9,
   "id": "d3b203c7-968d-4a06-b1e6-a82078de2b2c",
   "metadata": {},
   "outputs": [
    {
     "name": "stderr",
     "output_type": "stream",
     "text": [
      "39it [00:15,  2.46it/s]\n",
      "40it [00:16,  2.47it/s]\n",
      "41it [00:17,  2.36it/s]\n",
      "41it [00:16,  2.48it/s]\n",
      "41it [00:17,  2.37it/s]\n",
      "40it [00:16,  2.36it/s]\n",
      "41it [00:17,  2.33it/s]\n",
      "41it [00:17,  2.37it/s]\n",
      "40it [00:17,  2.35it/s]\n",
      "40it [00:17,  2.25it/s]\n"
     ]
    }
   ],
   "source": [
    "results = []\n",
    "\n",
    "with main_db.begin() as txn:\n",
    "    for scene in nuscenes.scene:\n",
    "        for sample in tqdm(nusc_utils.sample_gen(nuscenes, scene)):\n",
    "            key = bytes(sample['data']['CAM_FRONT'], 'utf-8')\n",
    "            value_bytes = txn.get(key)\n",
    "            bev_gt_map = bytes_to_array(value_bytes)\n",
    "            \n",
    "            bev_seg_map, nusc_idx_to_color = generate_bev_seg_map(nuscenes, sample, \n",
    "                                                                  depth_intp_method='linear', \n",
    "                                                                  seg_cls_intp_method='nearest')\n",
    "            pred, labels = utils.transform_pred_and_labels(bev_seg_map, bev_gt_map)\n",
    "            iou_per_class, iou_per_sample = utils.compute_iou(pred, labels)\n",
    "            \n",
    "            results.append({\n",
    "                'scene_token': scene['token'],\n",
    "                'sample_token': sample['token'],\n",
    "                'iou_per_class': list(iou_per_class),\n",
    "                'iou_per_sample': iou_per_sample\n",
    "            })"
   ]
  },
  {
   "cell_type": "code",
   "execution_count": 10,
   "id": "3636181c-d410-4044-bd54-7d1f371ca576",
   "metadata": {},
   "outputs": [],
   "source": [
    "with open('iou-linear-linear-static-interpolation-v1.0-mini.json', 'w') as f:\n",
    "    json.dump(results, f)"
   ]
  },
  {
   "cell_type": "code",
   "execution_count": 11,
   "id": "e4aa4dbd-c440-4242-886f-341f47cb0972",
   "metadata": {},
   "outputs": [
    {
     "data": {
      "text/plain": [
       "(0.18189610094152203,\n",
       " array([0.44281508, 0.0843298 , 0.11781198, 0.0472031 , 0.03979093,\n",
       "        0.00216841, 0.02083152, 0.04235435, 0.01194333, 0.01138728,\n",
       "        0.00088493, 0.00927088]))"
      ]
     },
     "execution_count": 11,
     "metadata": {},
     "output_type": "execute_result"
    }
   ],
   "source": [
    "mean_iou_per_sample = np.array([r['iou_per_sample'] for r in results]).mean()\n",
    "mean_iou_per_class = np.array([r['iou_per_class'] for r in results]).mean(axis=0)\n",
    "\n",
    "mean_iou_per_sample, mean_iou_per_class"
   ]
  },
  {
   "cell_type": "code",
   "execution_count": 12,
   "id": "e336a1a4-fb54-4b80-a69d-2e18c0b6a7ac",
   "metadata": {},
   "outputs": [
    {
     "data": {
      "text/html": [
       "<div>\n",
       "<style scoped>\n",
       "    .dataframe tbody tr th:only-of-type {\n",
       "        vertical-align: middle;\n",
       "    }\n",
       "\n",
       "    .dataframe tbody tr th {\n",
       "        vertical-align: top;\n",
       "    }\n",
       "\n",
       "    .dataframe thead th {\n",
       "        text-align: right;\n",
       "    }\n",
       "</style>\n",
       "<table border=\"1\" class=\"dataframe\">\n",
       "  <thead>\n",
       "    <tr style=\"text-align: right;\">\n",
       "      <th></th>\n",
       "      <th>0</th>\n",
       "    </tr>\n",
       "  </thead>\n",
       "  <tbody>\n",
       "    <tr>\n",
       "      <th>driveable_surface</th>\n",
       "      <td>0.443</td>\n",
       "    </tr>\n",
       "    <tr>\n",
       "      <th>sidewalk</th>\n",
       "      <td>0.084</td>\n",
       "    </tr>\n",
       "    <tr>\n",
       "      <th>car</th>\n",
       "      <td>0.118</td>\n",
       "    </tr>\n",
       "    <tr>\n",
       "      <th>truck</th>\n",
       "      <td>0.047</td>\n",
       "    </tr>\n",
       "    <tr>\n",
       "      <th>bus</th>\n",
       "      <td>0.040</td>\n",
       "    </tr>\n",
       "    <tr>\n",
       "      <th>trailer</th>\n",
       "      <td>0.002</td>\n",
       "    </tr>\n",
       "    <tr>\n",
       "      <th>construction_vehicle</th>\n",
       "      <td>0.021</td>\n",
       "    </tr>\n",
       "    <tr>\n",
       "      <th>pedestrian</th>\n",
       "      <td>0.042</td>\n",
       "    </tr>\n",
       "    <tr>\n",
       "      <th>motorcycle</th>\n",
       "      <td>0.012</td>\n",
       "    </tr>\n",
       "    <tr>\n",
       "      <th>bicycle</th>\n",
       "      <td>0.011</td>\n",
       "    </tr>\n",
       "    <tr>\n",
       "      <th>traffic_cone</th>\n",
       "      <td>0.001</td>\n",
       "    </tr>\n",
       "    <tr>\n",
       "      <th>barrier</th>\n",
       "      <td>0.009</td>\n",
       "    </tr>\n",
       "  </tbody>\n",
       "</table>\n",
       "</div>"
      ],
      "text/plain": [
       "                          0\n",
       "driveable_surface     0.443\n",
       "sidewalk              0.084\n",
       "car                   0.118\n",
       "truck                 0.047\n",
       "bus                   0.040\n",
       "trailer               0.002\n",
       "construction_vehicle  0.021\n",
       "pedestrian            0.042\n",
       "motorcycle            0.012\n",
       "bicycle               0.011\n",
       "traffic_cone          0.001\n",
       "barrier               0.009"
      ]
     },
     "execution_count": 12,
     "metadata": {},
     "output_type": "execute_result"
    }
   ],
   "source": [
    "labels = [x for i,x in enumerate(nusc_utils.NUSC_LIDAR_CLASS_NAMES) if i not in (1,3)]\n",
    "df = pd.DataFrame(np.round(mean_iou_per_class.reshape(-1,12),3), columns=labels).T\n",
    "df.to_csv('iou.csv', header=False)\n",
    "df"
   ]
  },
  {
   "cell_type": "code",
   "execution_count": null,
   "id": "367c8273-ed33-44b4-83df-f7742d1e3bb8",
   "metadata": {},
   "outputs": [],
   "source": []
  }
 ],
 "metadata": {
  "kernelspec": {
   "display_name": "Python 3 (ipykernel)",
   "language": "python",
   "name": "python3"
  },
  "language_info": {
   "codemirror_mode": {
    "name": "ipython",
    "version": 3
   },
   "file_extension": ".py",
   "mimetype": "text/x-python",
   "name": "python",
   "nbconvert_exporter": "python",
   "pygments_lexer": "ipython3",
   "version": "3.10.8"
  }
 },
 "nbformat": 4,
 "nbformat_minor": 5
}
